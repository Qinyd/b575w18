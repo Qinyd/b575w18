{
 "cells": [
  {
   "cell_type": "markdown",
   "metadata": {},
   "source": [
    "# Initialization"
   ]
  },
  {
   "cell_type": "markdown",
   "metadata": {},
   "source": [
    "To create an empty git repository in the current directory use the following command. This creates a `.git` file in the directory structure. (Note: the \"'!'\" is used in jupyter notebooks to send commands to the shell)."
   ]
  },
  {
   "cell_type": "code",
   "execution_count": 18,
   "metadata": {},
   "outputs": [
    {
     "name": "stdout",
     "output_type": "stream",
     "text": [
      "Initialized empty Git repository in C:/Users/MDS/Dropbox/BIOINF575W18/.git/\n"
     ]
    }
   ],
   "source": [
    "!git init"
   ]
  },
  {
   "cell_type": "code",
   "execution_count": 12,
   "metadata": {},
   "outputs": [
    {
     "name": "stdout",
     "output_type": "stream",
     "text": [
      " Volume in drive C is OS\n",
      " Volume Serial Number is 8CF7-8CB4\n",
      "\n",
      " Directory of C:\\Users\\MDS\\Dropbox\\BIOINF575W18\n",
      "\n",
      "01/07/2018  07:43 PM    <DIR>          .\n",
      "01/07/2018  07:43 PM    <DIR>          ..\n",
      "01/07/2018  07:38 PM    <DIR>          .git\n",
      "01/07/2018  07:38 PM    <DIR>          .ipynb_checkpoints\n",
      "01/07/2018  06:22 PM             2,500 branching_line.png\n",
      "01/07/2018  06:17 PM            21,683 checkout-detached.svg.png\n",
      "01/07/2018  05:44 PM            16,116 deltas.png\n",
      "01/07/2018  07:43 PM             3,372 Git tutorial.ipynb\n",
      "01/07/2018  06:36 PM            45,919 GitDiagram.png\n",
      "01/07/2018  04:25 PM            27,632 github-logo.png\n",
      "01/07/2018  04:18 PM           442,439 GithubTutorial_part2.jpg\n",
      "01/07/2018  04:26 PM            19,434 git-logo.png\n",
      "01/07/2018  04:18 PM           464,331 jetpack-octocat-airlock-b4e1d022c0113c997328f6598d16e58ad049140e50da4859d6b4d174890bb1c8.jpg\n",
      "01/07/2018  07:41 PM    <DIR>          jupyter\n",
      "01/07/2018  06:39 PM            12,903 lifecycle.png\n",
      "01/07/2018  06:06 PM             1,345 linear_straight_line.png\n",
      "01/07/2018  05:44 PM            20,722 snapshots.png\n",
      "              12 File(s)      1,078,396 bytes\n",
      "               5 Dir(s)  100,052,766,720 bytes free\n"
     ]
    }
   ],
   "source": [
    "ls"
   ]
  },
  {
   "cell_type": "markdown",
   "metadata": {},
   "source": [
    "Some helper commands"
   ]
  },
  {
   "cell_type": "code",
   "execution_count": 73,
   "metadata": {
    "collapsed": true
   },
   "outputs": [],
   "source": [
    "!git config --global user.name betteridiot\n",
    "!git config --global user.email mdsherman@betteridiot.tech\n",
    "!git config --global color.ui auto"
   ]
  },
  {
   "cell_type": "markdown",
   "metadata": {},
   "source": [
    "To see all new or modified files *to be committed*, use the following command"
   ]
  },
  {
   "cell_type": "code",
   "execution_count": 19,
   "metadata": {},
   "outputs": [
    {
     "name": "stdout",
     "output_type": "stream",
     "text": [
      "On branch master\n",
      "\n",
      "No commits yet\n",
      "\n",
      "Untracked files:\n",
      "  (use \"git add <file>...\" to include in what will be committed)\n",
      "\n",
      "\t.ipynb_checkpoints/\n",
      "\tGit tutorial.ipynb\n",
      "\tbioinf575.txt\n",
      "\tjupyter/\n",
      "\tpictures/\n",
      "\n",
      "nothing added to commit but untracked files present (use \"git add\" to track)\n"
     ]
    }
   ],
   "source": [
    "!git status"
   ]
  },
  {
   "cell_type": "markdown",
   "metadata": {},
   "source": [
    "To copy someone else's remote repository (like jupyter) to the current working directory"
   ]
  },
  {
   "cell_type": "code",
   "execution_count": 2,
   "metadata": {},
   "outputs": [
    {
     "name": "stderr",
     "output_type": "stream",
     "text": [
      "Cloning into 'jupyter'...\n"
     ]
    }
   ],
   "source": [
    "!git clone https://github.com/betteridiot/B575W18.git"
   ]
  },
  {
   "cell_type": "markdown",
   "metadata": {},
   "source": [
    "# Now to add something to our repo"
   ]
  },
  {
   "cell_type": "code",
   "execution_count": 13,
   "metadata": {
    "collapsed": true
   },
   "outputs": [],
   "source": [
    "!touch bioinf575.txt"
   ]
  },
  {
   "cell_type": "markdown",
   "metadata": {},
   "source": [
    "#### Who remembers what the `touch` command does?"
   ]
  },
  {
   "cell_type": "markdown",
   "metadata": {},
   "source": [
    "Now, add some content. "
   ]
  },
  {
   "cell_type": "code",
   "execution_count": 16,
   "metadata": {
    "collapsed": true
   },
   "outputs": [],
   "source": [
    "# This just appends \"hello world\" to our file contents\n",
    "!echo \"hello world\" >> bioinf575.txt"
   ]
  },
  {
   "cell_type": "markdown",
   "metadata": {},
   "source": [
    "To add files to your repo, it is as simple as `add`"
   ]
  },
  {
   "cell_type": "code",
   "execution_count": 21,
   "metadata": {
    "collapsed": true
   },
   "outputs": [],
   "source": [
    "!git add bioinf575.txt"
   ]
  },
  {
   "cell_type": "code",
   "execution_count": 22,
   "metadata": {},
   "outputs": [
    {
     "name": "stdout",
     "output_type": "stream",
     "text": [
      "On branch master\n",
      "\n",
      "No commits yet\n",
      "\n",
      "Changes to be committed:\n",
      "  (use \"git rm --cached <file>...\" to unstage)\n",
      "\n",
      "\tnew file:   bioinf575.txt\n",
      "\n",
      "Untracked files:\n",
      "  (use \"git add <file>...\" to include in what will be committed)\n",
      "\n",
      "\t.ipynb_checkpoints/\n",
      "\tGit tutorial.ipynb\n",
      "\tjupyter/\n",
      "\tpictures/\n",
      "\n"
     ]
    }
   ],
   "source": [
    "!git status"
   ]
  },
  {
   "cell_type": "markdown",
   "metadata": {},
   "source": [
    "`bioinf575.txt` is staged. If we were to make changes to it, we can look at the \"diff\""
   ]
  },
  {
   "cell_type": "code",
   "execution_count": 23,
   "metadata": {},
   "outputs": [
    {
     "name": "stdout",
     "output_type": "stream",
     "text": [
      "diff --git a/bioinf575.txt b/bioinf575.txt\n",
      "index b3430e3..65eff7b 100644\n",
      "--- a/bioinf575.txt\n",
      "+++ b/bioinf575.txt\n",
      "@@ -1,2 +1,3 @@\n",
      " \"hello world\" \n",
      " \"hello world\" \n",
      "+\"hello palmer commons\" \n"
     ]
    }
   ],
   "source": [
    "# add another line\n",
    "!echo \"hello palmer commons\" >> bioinf575.txt\n",
    "\n",
    "# See the differences between `modified` and `staged`\n",
    "!git diff"
   ]
  },
  {
   "cell_type": "markdown",
   "metadata": {},
   "source": [
    "Looks good, let's put it in the repo"
   ]
  },
  {
   "cell_type": "code",
   "execution_count": 25,
   "metadata": {},
   "outputs": [
    {
     "name": "stdout",
     "output_type": "stream",
     "text": [
      "[master (root-commit) af27684] first commit\n",
      " 1 file changed, 3 insertions(+)\n",
      " create mode 100644 bioinf575.txt\n"
     ]
    }
   ],
   "source": [
    "!git add bioinf575.txt\n",
    "!git commit -m \"first commit\""
   ]
  },
  {
   "cell_type": "markdown",
   "metadata": {},
   "source": [
    "#### the `-m <message>` argument is very important for people that don't want to deal with vim"
   ]
  },
  {
   "cell_type": "code",
   "execution_count": 26,
   "metadata": {},
   "outputs": [
    {
     "name": "stdout",
     "output_type": "stream",
     "text": [
      "commit af276849d1815e11dadf532cae2245502f49659c\n",
      "Author: mdsherm <mdsherm@umich.edu>\n",
      "Date:   Mon Jan 8 05:58:52 2018 -0500\n",
      "\n",
      "    first commit\n"
     ]
    }
   ],
   "source": [
    "!git log"
   ]
  },
  {
   "cell_type": "markdown",
   "metadata": {},
   "source": [
    "# Branching"
   ]
  },
  {
   "cell_type": "markdown",
   "metadata": {},
   "source": [
    "Now that we have an 'unmodified' repo, we can start branching. Branching is helpful for developing without hurting the standard code base"
   ]
  },
  {
   "cell_type": "code",
   "execution_count": 29,
   "metadata": {},
   "outputs": [
    {
     "name": "stderr",
     "output_type": "stream",
     "text": [
      "fatal: A branch named 'testFeature' already exists.\n"
     ]
    },
    {
     "name": "stdout",
     "output_type": "stream",
     "text": [
      "* master\n",
      "  testFeature\n"
     ]
    }
   ],
   "source": [
    "# Create a branch\n",
    "!git branch testFeature\n",
    "\n",
    "# list all branches\n",
    "!git branch"
   ]
  },
  {
   "cell_type": "markdown",
   "metadata": {},
   "source": [
    "The star next to `master` is important. It can also be seen in your log if there are multiple commits. This is called the `HEAD`. It is a reference to where we are working at currently."
   ]
  },
  {
   "cell_type": "code",
   "execution_count": 31,
   "metadata": {},
   "outputs": [
    {
     "name": "stderr",
     "output_type": "stream",
     "text": [
      "Already on 'testFeature'\n"
     ]
    },
    {
     "name": "stdout",
     "output_type": "stream",
     "text": [
      "  master\n",
      "* testFeature\n"
     ]
    }
   ],
   "source": [
    "# To changed branches\n",
    "!git checkout testFeature\n",
    "!git branch"
   ]
  },
  {
   "cell_type": "markdown",
   "metadata": {},
   "source": [
    "Within this new branch, let's make some changes. These changes are not tracked by origin/master branch."
   ]
  },
  {
   "cell_type": "code",
   "execution_count": 32,
   "metadata": {
    "collapsed": true
   },
   "outputs": [],
   "source": [
    "!echo \"new branch txt file\" >> newText.txt"
   ]
  },
  {
   "cell_type": "code",
   "execution_count": 33,
   "metadata": {},
   "outputs": [
    {
     "name": "stdout",
     "output_type": "stream",
     "text": [
      "[testFeature 29127be] added file to new branch\n",
      " 1 file changed, 1 insertion(+)\n",
      " create mode 100644 newText.txt\n",
      "On branch testFeature\n",
      "Untracked files:\n",
      "  (use \"git add <file>...\" to include in what will be committed)\n",
      "\n",
      "\t.ipynb_checkpoints/\n",
      "\tGit tutorial.ipynb\n",
      "\tjupyter/\n",
      "\tpictures/\n",
      "\n",
      "nothing added to commit but untracked files present (use \"git add\" to track)\n",
      "commit 29127bea75a257688582dfb26b6e0f49710b789e\n",
      "Author: mdsherm <mdsherm@umich.edu>\n",
      "Date:   Mon Jan 8 06:21:32 2018 -0500\n",
      "\n",
      "    added file to new branch\n",
      "\n",
      "commit af276849d1815e11dadf532cae2245502f49659c\n",
      "Author: mdsherm <mdsherm@umich.edu>\n",
      "Date:   Mon Jan 8 05:58:52 2018 -0500\n",
      "\n",
      "    first commit\n"
     ]
    }
   ],
   "source": [
    "!git add newText.txt\n",
    "!git commit -m \"added file to new branch\"\n",
    "!git status\n",
    "!git log"
   ]
  },
  {
   "cell_type": "code",
   "execution_count": 34,
   "metadata": {},
   "outputs": [
    {
     "name": "stdout",
     "output_type": "stream",
     "text": [
      "[testFeature 0326635] added 1 line to newText.txt\n",
      " Committer: root <root@ChaosFactor.localdomain>\n",
      "Your name and email address were configured automatically based\n",
      "on your username and hostname. Please check that they are accurate.\n",
      "You can suppress this message by setting them explicitly:\n",
      "\n",
      "    git config --global user.name \"Your Name\"\n",
      "    git config --global user.email you@example.com\n",
      "\n",
      "After doing this, you may fix the identity used for this commit with:\n",
      "\n",
      "    git commit --amend --reset-author\n",
      "\n",
      " 1 file changed, 1 insertion(+)\n",
      "[testFeature 216f8ad] added 2 line to newText.txt\n",
      " Committer: root <root@ChaosFactor.localdomain>\n",
      "Your name and email address were configured automatically based\n",
      "on your username and hostname. Please check that they are accurate.\n",
      "You can suppress this message by setting them explicitly:\n",
      "\n",
      "    git config --global user.name \"Your Name\"\n",
      "    git config --global user.email you@example.com\n",
      "\n",
      "After doing this, you may fix the identity used for this commit with:\n",
      "\n",
      "    git commit --amend --reset-author\n",
      "\n",
      " 1 file changed, 1 insertion(+)\n",
      "[testFeature 6cf3180] added 3 line to newText.txt\n",
      " Committer: root <root@ChaosFactor.localdomain>\n",
      "Your name and email address were configured automatically based\n",
      "on your username and hostname. Please check that they are accurate.\n",
      "You can suppress this message by setting them explicitly:\n",
      "\n",
      "    git config --global user.name \"Your Name\"\n",
      "    git config --global user.email you@example.com\n",
      "\n",
      "After doing this, you may fix the identity used for this commit with:\n",
      "\n",
      "    git commit --amend --reset-author\n",
      "\n",
      " 1 file changed, 1 insertion(+)\n",
      "[testFeature 554fff6] added 4 line to newText.txt\n",
      " Committer: root <root@ChaosFactor.localdomain>\n",
      "Your name and email address were configured automatically based\n",
      "on your username and hostname. Please check that they are accurate.\n",
      "You can suppress this message by setting them explicitly:\n",
      "\n",
      "    git config --global user.name \"Your Name\"\n",
      "    git config --global user.email you@example.com\n",
      "\n",
      "After doing this, you may fix the identity used for this commit with:\n",
      "\n",
      "    git commit --amend --reset-author\n",
      "\n",
      " 1 file changed, 1 insertion(+)\n",
      "On branch testFeature\n",
      "Changes not staged for commit:\n",
      "\tmodified:   newText.txt\n",
      "\n",
      "Untracked files:\n",
      "\t.ipynb_checkpoints/\n",
      "\tGit tutorial.ipynb\n",
      "\tjupyter/\n",
      "\tpictures/\n",
      "\n",
      "no changes added to commit\n",
      "[testFeature 52c999b] added 6 line to newText.txt\n",
      " Committer: root <root@ChaosFactor.localdomain>\n",
      "Your name and email address were configured automatically based\n",
      "on your username and hostname. Please check that they are accurate.\n",
      "You can suppress this message by setting them explicitly:\n",
      "\n",
      "    git config --global user.name \"Your Name\"\n",
      "    git config --global user.email you@example.com\n",
      "\n",
      "After doing this, you may fix the identity used for this commit with:\n",
      "\n",
      "    git commit --amend --reset-author\n",
      "\n",
      " 1 file changed, 2 insertions(+)\n",
      "[testFeature bdecdd8] added 7 line to newText.txt\n",
      " Committer: root <root@ChaosFactor.localdomain>\n",
      "Your name and email address were configured automatically based\n",
      "on your username and hostname. Please check that they are accurate.\n",
      "You can suppress this message by setting them explicitly:\n",
      "\n",
      "    git config --global user.name \"Your Name\"\n",
      "    git config --global user.email you@example.com\n",
      "\n",
      "After doing this, you may fix the identity used for this commit with:\n",
      "\n",
      "    git commit --amend --reset-author\n",
      "\n",
      " 1 file changed, 1 insertion(+)\n",
      "[testFeature 3d09f5d] added 8 line to newText.txt\n",
      " Committer: root <root@ChaosFactor.localdomain>\n",
      "Your name and email address were configured automatically based\n",
      "on your username and hostname. Please check that they are accurate.\n",
      "You can suppress this message by setting them explicitly:\n",
      "\n",
      "    git config --global user.name \"Your Name\"\n",
      "    git config --global user.email you@example.com\n",
      "\n",
      "After doing this, you may fix the identity used for this commit with:\n",
      "\n",
      "    git commit --amend --reset-author\n",
      "\n",
      " 1 file changed, 1 insertion(+)\n",
      "[testFeature a6a42c5] added 9 line to newText.txt\n",
      " Committer: root <root@ChaosFactor.localdomain>\n",
      "Your name and email address were configured automatically based\n",
      "on your username and hostname. Please check that they are accurate.\n",
      "You can suppress this message by setting them explicitly:\n",
      "\n",
      "    git config --global user.name \"Your Name\"\n",
      "    git config --global user.email you@example.com\n",
      "\n",
      "After doing this, you may fix the identity used for this commit with:\n",
      "\n",
      "    git commit --amend --reset-author\n",
      "\n",
      " 1 file changed, 1 insertion(+)\n",
      "[testFeature 7eb4252] added 10 line to newText.txt\n",
      " Committer: root <root@ChaosFactor.localdomain>\n",
      "Your name and email address were configured automatically based\n",
      "on your username and hostname. Please check that they are accurate.\n",
      "You can suppress this message by setting them explicitly:\n",
      "\n",
      "    git config --global user.name \"Your Name\"\n",
      "    git config --global user.email you@example.com\n",
      "\n",
      "After doing this, you may fix the identity used for this commit with:\n",
      "\n",
      "    git commit --amend --reset-author\n",
      "\n",
      " 1 file changed, 1 insertion(+)\n"
     ]
    },
    {
     "name": "stderr",
     "output_type": "stream",
     "text": [
      "stdin: is not a tty\n",
      "fatal: Unable to write new index file\n"
     ]
    }
   ],
   "source": [
    "# now, I am going to create a synthesized commit chain\n",
    "%%bash\n",
    "for i in {1..10}\n",
    "do\n",
    "    echo \"appending ${i}\" >> newText.txt\n",
    "    git add newText.txt\n",
    "    git commit -m \"added ${i} line to newText.txt\"\n",
    "done"
   ]
  },
  {
   "cell_type": "code",
   "execution_count": 35,
   "metadata": {},
   "outputs": [
    {
     "name": "stdout",
     "output_type": "stream",
     "text": [
      "\"new branch txt file\" \n",
      "appending 1\n",
      "appending 2\n",
      "appending 3\n",
      "appending 4\n",
      "appending 5\n",
      "appending 6\n",
      "appending 7\n",
      "appending 8\n",
      "appending 9\n"
     ]
    }
   ],
   "source": [
    "# showing the appended lines\n",
    "!head newText.txt"
   ]
  },
  {
   "cell_type": "markdown",
   "metadata": {},
   "source": [
    "Lets look at the git log"
   ]
  },
  {
   "cell_type": "code",
   "execution_count": 36,
   "metadata": {},
   "outputs": [
    {
     "name": "stdout",
     "output_type": "stream",
     "text": [
      "commit 7eb4252be005f13486d4e68a538c3b3eb65640bf\n",
      "Author: root <root@ChaosFactor.localdomain>\n",
      "Date:   Mon Jan 8 06:24:13 2018 -0500\n",
      "\n",
      "    added 10 line to newText.txt\n",
      "\n",
      "commit a6a42c5654d5c4e1e5ac053d4752a82fd61460d0\n",
      "Author: root <root@ChaosFactor.localdomain>\n",
      "Date:   Mon Jan 8 06:24:13 2018 -0500\n",
      "\n",
      "    added 9 line to newText.txt\n",
      "\n",
      "commit 3d09f5db90e25175568763cf691e90d4af1178d1\n",
      "Author: root <root@ChaosFactor.localdomain>\n",
      "Date:   Mon Jan 8 06:24:13 2018 -0500\n",
      "\n",
      "    added 8 line to newText.txt\n",
      "\n",
      "commit bdecdd823fabc15ae047df4dee75f69ddb4f078a\n",
      "Author: root <root@ChaosFactor.localdomain>\n",
      "Date:   Mon Jan 8 06:24:12 2018 -0500\n",
      "\n",
      "    added 7 line to newText.txt\n",
      "\n",
      "commit 52c999bfee6721a5e50ab5904b35519679406e08\n",
      "Author: root <root@ChaosFactor.localdomain>\n",
      "Date:   Mon Jan 8 06:24:12 2018 -0500\n",
      "\n",
      "    added 6 line to newText.txt\n",
      "\n",
      "commit 554fff6aac7240a538cc363ce4a3190cf1a706d5\n",
      "Author: root <root@ChaosFactor.localdomain>\n",
      "Date:   Mon Jan 8 06:24:12 2018 -0500\n",
      "\n",
      "    added 4 line to newText.txt\n",
      "\n",
      "commit 6cf3180e9fbf0dde75909b9b8cf8efb89081c52d\n",
      "Author: root <root@ChaosFactor.localdomain>\n",
      "Date:   Mon Jan 8 06:24:12 2018 -0500\n",
      "\n",
      "    added 3 line to newText.txt\n",
      "\n",
      "commit 216f8ad9ce67647eb9b8466f3c09bc76c745352d\n",
      "Author: root <root@ChaosFactor.localdomain>\n",
      "Date:   Mon Jan 8 06:24:11 2018 -0500\n",
      "\n",
      "    added 2 line to newText.txt\n",
      "\n",
      "commit 0326635bb442a9afef22af2540d896045f27114a\n",
      "Author: root <root@ChaosFactor.localdomain>\n",
      "Date:   Mon Jan 8 06:24:11 2018 -0500\n",
      "\n",
      "    added 1 line to newText.txt\n",
      "\n",
      "commit 29127bea75a257688582dfb26b6e0f49710b789e\n",
      "Author: mdsherm <mdsherm@umich.edu>\n",
      "Date:   Mon Jan 8 06:21:32 2018 -0500\n",
      "\n",
      "    added file to new branch\n",
      "\n",
      "commit af276849d1815e11dadf532cae2245502f49659c\n",
      "Author: mdsherm <mdsherm@umich.edu>\n",
      "Date:   Mon Jan 8 05:58:52 2018 -0500\n",
      "\n",
      "    first commit\n"
     ]
    }
   ],
   "source": [
    "!git log --graph --decorate"
   ]
  },
  {
   "cell_type": "markdown",
   "metadata": {},
   "source": [
    "# The \"Undo\" capabilities"
   ]
  },
  {
   "cell_type": "markdown",
   "metadata": {},
   "source": [
    "I added too many lines, so I want to go back."
   ]
  },
  {
   "cell_type": "code",
   "execution_count": 37,
   "metadata": {},
   "outputs": [
    {
     "name": "stdout",
     "output_type": "stream",
     "text": [
      "Unstaged changes after reset:\n",
      "M\tnewText.txt\n"
     ]
    }
   ],
   "source": [
    "# use the commit hash first 6-10 characters is all you need\n",
    "!git reset 216f8ad9ce6764"
   ]
  },
  {
   "cell_type": "code",
   "execution_count": 44,
   "metadata": {},
   "outputs": [
    {
     "name": "stdout",
     "output_type": "stream",
     "text": [
      "* commit 216f8ad9ce67647eb9b8466f3c09bc76c745352d (HEAD -> testFeature)\n",
      "| Author: root <root@ChaosFactor.localdomain>\n",
      "| Date:   Mon Jan 8 06:24:11 2018 -0500\n",
      "| \n",
      "|     added 2 line to newText.txt\n",
      "| \n",
      "* commit 0326635bb442a9afef22af2540d896045f27114a\n",
      "| Author: root <root@ChaosFactor.localdomain>\n",
      "| Date:   Mon Jan 8 06:24:11 2018 -0500\n",
      "| \n",
      "|     added 1 line to newText.txt\n",
      "| \n",
      "* commit 29127bea75a257688582dfb26b6e0f49710b789e\n",
      "| Author: mdsherm <mdsherm@umich.edu>\n",
      "| Date:   Mon Jan 8 06:21:32 2018 -0500\n",
      "| \n",
      "|     added file to new branch\n",
      "| \n",
      "* commit af276849d1815e11dadf532cae2245502f49659c (master)\n",
      "  Author: mdsherm <mdsherm@umich.edu>\n",
      "  Date:   Mon Jan 8 05:58:52 2018 -0500\n",
      "  \n",
      "      first commit\n"
     ]
    }
   ],
   "source": [
    "!git log --graph --decorate"
   ]
  },
  {
   "cell_type": "markdown",
   "metadata": {},
   "source": [
    "Maybe I went too far back"
   ]
  },
  {
   "cell_type": "code",
   "execution_count": 45,
   "metadata": {},
   "outputs": [
    {
     "name": "stdout",
     "output_type": "stream",
     "text": [
      "Unstaged changes after reset:\n",
      "M\tnewText.txt\n"
     ]
    }
   ],
   "source": [
    "! git reset 3d09f5db90e25"
   ]
  },
  {
   "cell_type": "code",
   "execution_count": 46,
   "metadata": {},
   "outputs": [
    {
     "name": "stdout",
     "output_type": "stream",
     "text": [
      "* commit 3d09f5db90e25175568763cf691e90d4af1178d1 (HEAD -> testFeature)\n",
      "| Author: root <root@ChaosFactor.localdomain>\n",
      "| Date:   Mon Jan 8 06:24:13 2018 -0500\n",
      "| \n",
      "|     added 8 line to newText.txt\n",
      "| \n",
      "* commit bdecdd823fabc15ae047df4dee75f69ddb4f078a\n",
      "| Author: root <root@ChaosFactor.localdomain>\n",
      "| Date:   Mon Jan 8 06:24:12 2018 -0500\n",
      "| \n",
      "|     added 7 line to newText.txt\n",
      "| \n",
      "* commit 52c999bfee6721a5e50ab5904b35519679406e08\n",
      "| Author: root <root@ChaosFactor.localdomain>\n",
      "| Date:   Mon Jan 8 06:24:12 2018 -0500\n",
      "| \n",
      "|     added 6 line to newText.txt\n",
      "| \n",
      "* commit 554fff6aac7240a538cc363ce4a3190cf1a706d5\n",
      "| Author: root <root@ChaosFactor.localdomain>\n",
      "| Date:   Mon Jan 8 06:24:12 2018 -0500\n",
      "| \n",
      "|     added 4 line to newText.txt\n",
      "| \n",
      "* commit 6cf3180e9fbf0dde75909b9b8cf8efb89081c52d\n",
      "| Author: root <root@ChaosFactor.localdomain>\n",
      "| Date:   Mon Jan 8 06:24:12 2018 -0500\n",
      "| \n",
      "|     added 3 line to newText.txt\n",
      "| \n",
      "* commit 216f8ad9ce67647eb9b8466f3c09bc76c745352d\n",
      "| Author: root <root@ChaosFactor.localdomain>\n",
      "| Date:   Mon Jan 8 06:24:11 2018 -0500\n",
      "| \n",
      "|     added 2 line to newText.txt\n",
      "| \n",
      "* commit 0326635bb442a9afef22af2540d896045f27114a\n",
      "| Author: root <root@ChaosFactor.localdomain>\n",
      "| Date:   Mon Jan 8 06:24:11 2018 -0500\n",
      "| \n",
      "|     added 1 line to newText.txt\n",
      "| \n",
      "* commit 29127bea75a257688582dfb26b6e0f49710b789e\n",
      "| Author: mdsherm <mdsherm@umich.edu>\n",
      "| Date:   Mon Jan 8 06:21:32 2018 -0500\n",
      "| \n",
      "|     added file to new branch\n",
      "| \n",
      "* commit af276849d1815e11dadf532cae2245502f49659c (master)\n",
      "  Author: mdsherm <mdsherm@umich.edu>\n",
      "  Date:   Mon Jan 8 05:58:52 2018 -0500\n",
      "  \n",
      "      first commit\n"
     ]
    }
   ],
   "source": [
    "!git log --graph --decorate"
   ]
  },
  {
   "cell_type": "markdown",
   "metadata": {},
   "source": [
    "Actually., this would be easier if I just used my *informative* commit message"
   ]
  },
  {
   "cell_type": "code",
   "execution_count": 48,
   "metadata": {},
   "outputs": [
    {
     "name": "stdout",
     "output_type": "stream",
     "text": [
      "commit bdecdd823fabc15ae047df4dee75f69ddb4f078a\n",
      "Author: root <root@ChaosFactor.localdomain>\n",
      "Date:   Mon Jan 8 06:24:12 2018 -0500\n",
      "\n",
      "    added 7 line to newText.txt\n"
     ]
    }
   ],
   "source": [
    "!git log --grep=\"added 7\""
   ]
  },
  {
   "cell_type": "code",
   "execution_count": 49,
   "metadata": {},
   "outputs": [
    {
     "name": "stdout",
     "output_type": "stream",
     "text": [
      "Unstaged changes after reset:\n",
      "M\tnewText.txt\n"
     ]
    }
   ],
   "source": [
    "!git reset bdecdd823fabc"
   ]
  },
  {
   "cell_type": "markdown",
   "metadata": {},
   "source": [
    "But those hash keys don't really do if for me...you can't really remember them or ALL of your commit messages. Therefore, we can add tags to our commits"
   ]
  },
  {
   "cell_type": "code",
   "execution_count": 50,
   "metadata": {
    "collapsed": true
   },
   "outputs": [],
   "source": [
    "!git tag -a line7 -m \"tag for line 7 version\""
   ]
  },
  {
   "cell_type": "code",
   "execution_count": 51,
   "metadata": {},
   "outputs": [
    {
     "name": "stdout",
     "output_type": "stream",
     "text": [
      "line7\n"
     ]
    }
   ],
   "source": [
    "# list all tags associated with repo\n",
    "!git tag"
   ]
  },
  {
   "cell_type": "markdown",
   "metadata": {},
   "source": [
    "Tags allow you to have an easy way to mark important points in your workflow for easy navigation and tracking"
   ]
  },
  {
   "cell_type": "code",
   "execution_count": 53,
   "metadata": {},
   "outputs": [
    {
     "name": "stdout",
     "output_type": "stream",
     "text": [
      "[testFeature 4a8d8cb] testing out tags\n",
      " 1 file changed, 2 insertions(+)\n",
      " create mode 100644 tagText.txt\n"
     ]
    }
   ],
   "source": [
    "!echo \"goodbye world\" >> tagText.txt\n",
    "!git add tagText.txt\n",
    "!git commit -m \"testing out tags\""
   ]
  },
  {
   "cell_type": "code",
   "execution_count": 55,
   "metadata": {},
   "outputs": [
    {
     "name": "stdout",
     "output_type": "stream",
     "text": [
      "* 4a8d8cb (HEAD -> testFeature) testing out tags\n",
      "* bdecdd8 (tag: line7) added 7 line to newText.txt\n",
      "* 52c999b added 6 line to newText.txt\n",
      "* 554fff6 added 4 line to newText.txt\n",
      "* 6cf3180 added 3 line to newText.txt\n",
      "* 216f8ad added 2 line to newText.txt\n",
      "* 0326635 added 1 line to newText.txt\n",
      "* 29127be added file to new branch\n",
      "* af27684 (master) first commit\n"
     ]
    }
   ],
   "source": [
    "!git log --oneline --graph --decorate"
   ]
  },
  {
   "cell_type": "code",
   "execution_count": 56,
   "metadata": {},
   "outputs": [
    {
     "name": "stdout",
     "output_type": "stream",
     "text": [
      "Unstaged changes after reset:\n",
      "M\tnewText.txt\n"
     ]
    }
   ],
   "source": [
    "# Go back to my tag\n",
    "!git reset line7"
   ]
  },
  {
   "cell_type": "code",
   "execution_count": 57,
   "metadata": {},
   "outputs": [
    {
     "name": "stdout",
     "output_type": "stream",
     "text": [
      "* bdecdd8 (HEAD -> testFeature, tag: line7) added 7 line to newText.txt\n",
      "* 52c999b added 6 line to newText.txt\n",
      "* 554fff6 added 4 line to newText.txt\n",
      "* 6cf3180 added 3 line to newText.txt\n",
      "* 216f8ad added 2 line to newText.txt\n",
      "* 0326635 added 1 line to newText.txt\n",
      "* 29127be added file to new branch\n",
      "* af27684 (master) first commit\n"
     ]
    }
   ],
   "source": [
    "!git log --oneline --graph --decorate"
   ]
  },
  {
   "cell_type": "markdown",
   "metadata": {},
   "source": [
    "# Merging"
   ]
  },
  {
   "cell_type": "markdown",
   "metadata": {},
   "source": [
    "Now, the always remember this golden rule of merging: the master branch never turns.\n",
    "This means that when merging, always merge *from* master, not *to* master"
   ]
  },
  {
   "cell_type": "code",
   "execution_count": 63,
   "metadata": {},
   "outputs": [
    {
     "name": "stderr",
     "output_type": "stream",
     "text": [
      "error: Your local changes to the following files would be overwritten by checkout:\n",
      "\tnewText.txt\n",
      "Please commit your changes or stash them before you switch branches.\n",
      "Aborting\n"
     ]
    }
   ],
   "source": [
    "!git checkout master"
   ]
  },
  {
   "cell_type": "markdown",
   "metadata": {},
   "source": [
    "This is a form conflict detection. It shows that some information was not staged. If I force a switch to a different branch, I will lose this information"
   ]
  },
  {
   "cell_type": "code",
   "execution_count": 66,
   "metadata": {},
   "outputs": [
    {
     "name": "stdout",
     "output_type": "stream",
     "text": [
      "[testFeature d1646df] clearing up tag lesson\n",
      " 1 file changed, 3 insertions(+)\n"
     ]
    }
   ],
   "source": [
    "!git add newText.txt\n",
    "!git commit -m \"clearing up tag lesson\""
   ]
  },
  {
   "cell_type": "code",
   "execution_count": 67,
   "metadata": {},
   "outputs": [
    {
     "name": "stderr",
     "output_type": "stream",
     "text": [
      "Switched to branch 'master'\n"
     ]
    }
   ],
   "source": [
    "!git checkout master"
   ]
  },
  {
   "cell_type": "markdown",
   "metadata": {},
   "source": [
    "Here is where I can bring in the test branch"
   ]
  },
  {
   "cell_type": "code",
   "execution_count": 68,
   "metadata": {},
   "outputs": [
    {
     "name": "stdout",
     "output_type": "stream",
     "text": [
      "* master\n",
      "  origin\n",
      "  testFeature\n"
     ]
    }
   ],
   "source": [
    "!git branch"
   ]
  },
  {
   "cell_type": "code",
   "execution_count": 70,
   "metadata": {},
   "outputs": [
    {
     "name": "stdout",
     "output_type": "stream",
     "text": [
      "Updating af27684..d1646df\n",
      "Fast-forward\n",
      " newText.txt | 11 +++++++++++\n",
      " 1 file changed, 11 insertions(+)\n",
      " create mode 100644 newText.txt\n"
     ]
    }
   ],
   "source": [
    "!git merge testFeature"
   ]
  },
  {
   "cell_type": "code",
   "execution_count": 72,
   "metadata": {},
   "outputs": [
    {
     "name": "stdout",
     "output_type": "stream",
     "text": [
      "On branch master\n",
      "nothing to commit (use -u to show untracked files)\n"
     ]
    }
   ],
   "source": [
    "# helpful argument to ignore untracked files\n",
    "!git status -uno"
   ]
  },
  {
   "cell_type": "markdown",
   "metadata": {},
   "source": [
    "# Remote repos"
   ]
  },
  {
   "cell_type": "markdown",
   "metadata": {},
   "source": [
    "Once you have a GitHub (or similar) account, you can start using it remotely through git"
   ]
  },
  {
   "cell_type": "code",
   "execution_count": 82,
   "metadata": {},
   "outputs": [],
   "source": [
    "!git remote add origin https://github.com/betteridiot/b575.git"
   ]
  },
  {
   "cell_type": "markdown",
   "metadata": {},
   "source": [
    "Now I just need to push my local branch and its commit history to the remote repo"
   ]
  },
  {
   "cell_type": "code",
   "execution_count": 83,
   "metadata": {},
   "outputs": [
    {
     "name": "stderr",
     "output_type": "stream",
     "text": [
      "To https://github.com/betteridiot/b575.git\n",
      " * [new branch]      master -> master\n"
     ]
    }
   ],
   "source": [
    "!git push origin master"
   ]
  },
  {
   "cell_type": "markdown",
   "metadata": {},
   "source": [
    "By adding a README.md from GitHub, our remote repo now has a commit ahead of our local workspace. Use `pull` to fix that"
   ]
  },
  {
   "cell_type": "code",
   "execution_count": 85,
   "metadata": {},
   "outputs": [
    {
     "name": "stdout",
     "output_type": "stream",
     "text": [
      "Updating d1646df..c69900d\n",
      "Fast-forward\n",
      " README.md | 2 ++\n",
      " 1 file changed, 2 insertions(+)\n",
      " create mode 100644 README.md\n"
     ]
    },
    {
     "name": "stderr",
     "output_type": "stream",
     "text": [
      "From https://github.com/betteridiot/b575\n",
      " * branch            master     -> FETCH_HEAD\n"
     ]
    }
   ],
   "source": [
    "!git pull origin master"
   ]
  },
  {
   "cell_type": "code",
   "execution_count": 87,
   "metadata": {},
   "outputs": [
    {
     "name": "stderr",
     "output_type": "stream",
     "text": [
      "Cloning into 'B575W18'...\n"
     ]
    }
   ],
   "source": [
    "!git remote add b575w18 https://github.com/betteridiot/B575W18.git\n",
    "!git clone https://github.com/betteridiot/B575W18.git\n",
    "!cd B575W18"
   ]
  },
  {
   "cell_type": "code",
   "execution_count": null,
   "metadata": {
    "collapsed": true
   },
   "outputs": [],
   "source": []
  }
 ],
 "metadata": {
  "kernelspec": {
   "display_name": "Python 3",
   "language": "python",
   "name": "python3"
  },
  "language_info": {
   "codemirror_mode": {
    "name": "ipython",
    "version": 3
   },
   "file_extension": ".py",
   "mimetype": "text/x-python",
   "name": "python",
   "nbconvert_exporter": "python",
   "pygments_lexer": "ipython3",
   "version": "3.6.3"
  }
 },
 "nbformat": 4,
 "nbformat_minor": 2
}
